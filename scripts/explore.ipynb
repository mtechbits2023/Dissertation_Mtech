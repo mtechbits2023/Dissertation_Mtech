{
 "cells": [
  {
   "cell_type": "code",
   "execution_count": 1,
   "metadata": {},
   "outputs": [
    {
     "name": "stdout",
     "output_type": "stream",
     "text": [
      "Collecting datasets\n",
      "  Downloading datasets-3.5.1-py3-none-any.whl.metadata (19 kB)\n",
      "Requirement already satisfied: filelock in c:\\users\\admin\\appdata\\local\\programs\\python\\python311\\lib\\site-packages (from datasets) (3.13.1)\n",
      "Requirement already satisfied: numpy>=1.17 in c:\\users\\admin\\appdata\\local\\programs\\python\\python311\\lib\\site-packages (from datasets) (1.26.0)\n",
      "Collecting pyarrow>=15.0.0 (from datasets)\n",
      "  Downloading pyarrow-20.0.0-cp311-cp311-win_amd64.whl.metadata (3.4 kB)\n",
      "Collecting dill<0.3.9,>=0.3.0 (from datasets)\n",
      "  Downloading dill-0.3.8-py3-none-any.whl.metadata (10 kB)\n",
      "Requirement already satisfied: pandas in c:\\users\\admin\\appdata\\local\\programs\\python\\python311\\lib\\site-packages (from datasets) (2.2.1)\n",
      "Requirement already satisfied: requests>=2.32.2 in c:\\users\\admin\\appdata\\local\\programs\\python\\python311\\lib\\site-packages (from datasets) (2.32.3)\n",
      "Requirement already satisfied: tqdm>=4.66.3 in c:\\users\\admin\\appdata\\local\\programs\\python\\python311\\lib\\site-packages (from datasets) (4.66.4)\n",
      "Collecting xxhash (from datasets)\n",
      "  Downloading xxhash-3.5.0-cp311-cp311-win_amd64.whl.metadata (13 kB)\n",
      "Collecting multiprocess<0.70.17 (from datasets)\n",
      "  Downloading multiprocess-0.70.16-py311-none-any.whl.metadata (7.2 kB)\n",
      "Collecting fsspec<=2025.3.0,>=2023.1.0 (from fsspec[http]<=2025.3.0,>=2023.1.0->datasets)\n",
      "  Downloading fsspec-2025.3.0-py3-none-any.whl.metadata (11 kB)\n",
      "Collecting aiohttp (from datasets)\n",
      "  Downloading aiohttp-3.11.18-cp311-cp311-win_amd64.whl.metadata (8.0 kB)\n",
      "Collecting huggingface-hub>=0.24.0 (from datasets)\n",
      "  Downloading huggingface_hub-0.30.2-py3-none-any.whl.metadata (13 kB)\n",
      "Requirement already satisfied: packaging in c:\\users\\admin\\appdata\\roaming\\python\\python311\\site-packages (from datasets) (23.2)\n",
      "Requirement already satisfied: pyyaml>=5.1 in c:\\users\\admin\\appdata\\local\\programs\\python\\python311\\lib\\site-packages (from datasets) (6.0.1)\n",
      "Collecting aiohappyeyeballs>=2.3.0 (from aiohttp->datasets)\n",
      "  Downloading aiohappyeyeballs-2.6.1-py3-none-any.whl.metadata (5.9 kB)\n",
      "Collecting aiosignal>=1.1.2 (from aiohttp->datasets)\n",
      "  Downloading aiosignal-1.3.2-py2.py3-none-any.whl.metadata (3.8 kB)\n",
      "Requirement already satisfied: attrs>=17.3.0 in c:\\users\\admin\\appdata\\local\\programs\\python\\python311\\lib\\site-packages (from aiohttp->datasets) (23.2.0)\n",
      "Collecting frozenlist>=1.1.1 (from aiohttp->datasets)\n",
      "  Downloading frozenlist-1.6.0-cp311-cp311-win_amd64.whl.metadata (16 kB)\n",
      "Collecting multidict<7.0,>=4.5 (from aiohttp->datasets)\n",
      "  Downloading multidict-6.4.3-cp311-cp311-win_amd64.whl.metadata (5.5 kB)\n",
      "Collecting propcache>=0.2.0 (from aiohttp->datasets)\n",
      "  Downloading propcache-0.3.1-cp311-cp311-win_amd64.whl.metadata (11 kB)\n",
      "Collecting yarl<2.0,>=1.17.0 (from aiohttp->datasets)\n",
      "  Downloading yarl-1.20.0-cp311-cp311-win_amd64.whl.metadata (74 kB)\n",
      "Requirement already satisfied: typing-extensions>=3.7.4.3 in c:\\users\\admin\\appdata\\local\\programs\\python\\python311\\lib\\site-packages (from huggingface-hub>=0.24.0->datasets) (4.10.0)\n",
      "Requirement already satisfied: charset-normalizer<4,>=2 in c:\\users\\admin\\appdata\\local\\programs\\python\\python311\\lib\\site-packages (from requests>=2.32.2->datasets) (3.3.2)\n",
      "Requirement already satisfied: idna<4,>=2.5 in c:\\users\\admin\\appdata\\local\\programs\\python\\python311\\lib\\site-packages (from requests>=2.32.2->datasets) (3.6)\n",
      "Requirement already satisfied: urllib3<3,>=1.21.1 in c:\\users\\admin\\appdata\\roaming\\python\\python311\\site-packages (from requests>=2.32.2->datasets) (2.2.1)\n",
      "Requirement already satisfied: certifi>=2017.4.17 in c:\\users\\admin\\appdata\\local\\programs\\python\\python311\\lib\\site-packages (from requests>=2.32.2->datasets) (2024.2.2)\n",
      "Requirement already satisfied: colorama in c:\\users\\admin\\appdata\\roaming\\python\\python311\\site-packages (from tqdm>=4.66.3->datasets) (0.4.6)\n",
      "Requirement already satisfied: python-dateutil>=2.8.2 in c:\\users\\admin\\appdata\\roaming\\python\\python311\\site-packages (from pandas->datasets) (2.8.2)\n",
      "Requirement already satisfied: pytz>=2020.1 in c:\\users\\admin\\appdata\\local\\programs\\python\\python311\\lib\\site-packages (from pandas->datasets) (2024.1)\n",
      "Requirement already satisfied: tzdata>=2022.7 in c:\\users\\admin\\appdata\\local\\programs\\python\\python311\\lib\\site-packages (from pandas->datasets) (2024.1)\n",
      "Requirement already satisfied: six>=1.5 in c:\\users\\admin\\appdata\\roaming\\python\\python311\\site-packages (from python-dateutil>=2.8.2->pandas->datasets) (1.16.0)\n",
      "Downloading datasets-3.5.1-py3-none-any.whl (491 kB)\n",
      "Downloading dill-0.3.8-py3-none-any.whl (116 kB)\n",
      "Downloading fsspec-2025.3.0-py3-none-any.whl (193 kB)\n",
      "Downloading aiohttp-3.11.18-cp311-cp311-win_amd64.whl (443 kB)\n",
      "Downloading huggingface_hub-0.30.2-py3-none-any.whl (481 kB)\n",
      "Downloading multiprocess-0.70.16-py311-none-any.whl (143 kB)\n",
      "Downloading pyarrow-20.0.0-cp311-cp311-win_amd64.whl (25.8 MB)\n",
      "   ---------------------------------------- 0.0/25.8 MB ? eta -:--:--\n",
      "   - -------------------------------------- 1.0/25.8 MB 6.3 MB/s eta 0:00:04\n",
      "   --- ------------------------------------ 2.4/25.8 MB 5.8 MB/s eta 0:00:05\n",
      "   ----- ---------------------------------- 3.7/25.8 MB 5.9 MB/s eta 0:00:04\n",
      "   ------ --------------------------------- 4.2/25.8 MB 5.2 MB/s eta 0:00:05\n",
      "   ------ --------------------------------- 4.2/25.8 MB 5.2 MB/s eta 0:00:05\n",
      "   ------ --------------------------------- 4.5/25.8 MB 3.6 MB/s eta 0:00:06\n",
      "   ------- -------------------------------- 4.7/25.8 MB 3.5 MB/s eta 0:00:07\n",
      "   ------- -------------------------------- 5.0/25.8 MB 3.0 MB/s eta 0:00:07\n",
      "   -------- ------------------------------- 5.2/25.8 MB 2.7 MB/s eta 0:00:08\n",
      "   -------- ------------------------------- 5.2/25.8 MB 2.7 MB/s eta 0:00:08\n",
      "   -------- ------------------------------- 5.5/25.8 MB 2.5 MB/s eta 0:00:09\n",
      "   --------- ------------------------------ 6.0/25.8 MB 2.4 MB/s eta 0:00:09\n",
      "   --------- ------------------------------ 6.3/25.8 MB 2.3 MB/s eta 0:00:09\n",
      "   ---------- ----------------------------- 7.1/25.8 MB 2.4 MB/s eta 0:00:08\n",
      "   ---------- ----------------------------- 7.1/25.8 MB 2.4 MB/s eta 0:00:08\n",
      "   ----------- ---------------------------- 7.3/25.8 MB 2.2 MB/s eta 0:00:09\n",
      "   ------------ --------------------------- 7.9/25.8 MB 2.2 MB/s eta 0:00:09\n",
      "   ------------ --------------------------- 8.1/25.8 MB 2.1 MB/s eta 0:00:09\n",
      "   ------------ --------------------------- 8.1/25.8 MB 2.1 MB/s eta 0:00:09\n",
      "   ------------- -------------------------- 8.4/25.8 MB 2.0 MB/s eta 0:00:09\n",
      "   ------------- -------------------------- 8.7/25.8 MB 2.0 MB/s eta 0:00:09\n",
      "   -------------- ------------------------- 9.2/25.8 MB 2.0 MB/s eta 0:00:09\n",
      "   -------------- ------------------------- 9.4/25.8 MB 2.0 MB/s eta 0:00:09\n",
      "   -------------- ------------------------- 9.4/25.8 MB 2.0 MB/s eta 0:00:09\n",
      "   --------------- ------------------------ 9.7/25.8 MB 1.8 MB/s eta 0:00:09\n",
      "   --------------- ------------------------ 10.0/25.8 MB 1.8 MB/s eta 0:00:09\n",
      "   --------------- ------------------------ 10.2/25.8 MB 1.8 MB/s eta 0:00:09\n",
      "   ---------------- ----------------------- 10.5/25.8 MB 1.8 MB/s eta 0:00:09\n",
      "   ---------------- ----------------------- 10.7/25.8 MB 1.8 MB/s eta 0:00:09\n",
      "   ----------------- ---------------------- 11.0/25.8 MB 1.8 MB/s eta 0:00:09\n",
      "   ----------------- ---------------------- 11.3/25.8 MB 1.7 MB/s eta 0:00:09\n",
      "   ----------------- ---------------------- 11.3/25.8 MB 1.7 MB/s eta 0:00:09\n",
      "   ------------------ --------------------- 11.8/25.8 MB 1.7 MB/s eta 0:00:09\n",
      "   ------------------ --------------------- 12.1/25.8 MB 1.7 MB/s eta 0:00:09\n",
      "   ------------------- -------------------- 12.8/25.8 MB 1.7 MB/s eta 0:00:08\n",
      "   ------------------- -------------------- 12.8/25.8 MB 1.7 MB/s eta 0:00:08\n",
      "   -------------------- ------------------- 13.1/25.8 MB 1.7 MB/s eta 0:00:08\n",
      "   -------------------- ------------------- 13.1/25.8 MB 1.7 MB/s eta 0:00:08\n",
      "   --------------------- ------------------ 13.6/25.8 MB 1.7 MB/s eta 0:00:08\n",
      "   --------------------- ------------------ 13.9/25.8 MB 1.6 MB/s eta 0:00:08\n",
      "   --------------------- ------------------ 14.2/25.8 MB 1.6 MB/s eta 0:00:08\n",
      "   ---------------------- ----------------- 14.7/25.8 MB 1.7 MB/s eta 0:00:07\n",
      "   ----------------------- ---------------- 15.2/25.8 MB 1.7 MB/s eta 0:00:07\n",
      "   ------------------------ --------------- 15.7/25.8 MB 1.7 MB/s eta 0:00:06\n",
      "   ------------------------ --------------- 15.7/25.8 MB 1.7 MB/s eta 0:00:06\n",
      "   ------------------------ --------------- 16.0/25.8 MB 1.6 MB/s eta 0:00:06\n",
      "   ------------------------- -------------- 16.3/25.8 MB 1.6 MB/s eta 0:00:06\n",
      "   ------------------------- -------------- 16.3/25.8 MB 1.6 MB/s eta 0:00:06\n",
      "   ------------------------- -------------- 16.5/25.8 MB 1.6 MB/s eta 0:00:06\n",
      "   -------------------------- ------------- 16.8/25.8 MB 1.6 MB/s eta 0:00:06\n",
      "   -------------------------- ------------- 16.8/25.8 MB 1.6 MB/s eta 0:00:06\n",
      "   -------------------------- ------------- 17.3/25.8 MB 1.6 MB/s eta 0:00:06\n",
      "   --------------------------- ------------ 17.6/25.8 MB 1.6 MB/s eta 0:00:06\n",
      "   ---------------------------- ----------- 18.4/25.8 MB 1.6 MB/s eta 0:00:05\n",
      "   ----------------------------- ---------- 19.1/25.8 MB 1.7 MB/s eta 0:00:05\n",
      "   ------------------------------ --------- 19.9/25.8 MB 1.7 MB/s eta 0:00:04\n",
      "   ------------------------------ --------- 19.9/25.8 MB 1.7 MB/s eta 0:00:04\n",
      "   ------------------------------- -------- 20.2/25.8 MB 1.7 MB/s eta 0:00:04\n",
      "   ------------------------------- -------- 20.4/25.8 MB 1.7 MB/s eta 0:00:04\n",
      "   -------------------------------- ------- 21.2/25.8 MB 1.7 MB/s eta 0:00:03\n",
      "   ---------------------------------- ----- 22.0/25.8 MB 1.7 MB/s eta 0:00:03\n",
      "   ---------------------------------- ----- 22.5/25.8 MB 1.7 MB/s eta 0:00:02\n",
      "   ------------------------------------ --- 23.3/25.8 MB 1.8 MB/s eta 0:00:02\n",
      "   ------------------------------------- -- 24.1/25.8 MB 1.8 MB/s eta 0:00:01\n",
      "   -------------------------------------- - 24.9/25.8 MB 1.8 MB/s eta 0:00:01\n",
      "   ---------------------------------------  25.7/25.8 MB 1.9 MB/s eta 0:00:01\n",
      "   ---------------------------------------- 25.8/25.8 MB 1.8 MB/s eta 0:00:00\n",
      "Downloading xxhash-3.5.0-cp311-cp311-win_amd64.whl (30 kB)\n",
      "Downloading aiohappyeyeballs-2.6.1-py3-none-any.whl (15 kB)\n",
      "Downloading aiosignal-1.3.2-py2.py3-none-any.whl (7.6 kB)\n",
      "Downloading frozenlist-1.6.0-cp311-cp311-win_amd64.whl (120 kB)\n",
      "Downloading multidict-6.4.3-cp311-cp311-win_amd64.whl (38 kB)\n",
      "Downloading propcache-0.3.1-cp311-cp311-win_amd64.whl (45 kB)\n",
      "Downloading yarl-1.20.0-cp311-cp311-win_amd64.whl (93 kB)\n",
      "Installing collected packages: xxhash, pyarrow, propcache, multidict, fsspec, frozenlist, dill, aiohappyeyeballs, yarl, multiprocess, huggingface-hub, aiosignal, aiohttp, datasets\n",
      "  Attempting uninstall: fsspec\n",
      "    Found existing installation: fsspec 2025.3.2\n",
      "    Uninstalling fsspec-2025.3.2:\n",
      "      Successfully uninstalled fsspec-2025.3.2\n",
      "Successfully installed aiohappyeyeballs-2.6.1 aiohttp-3.11.18 aiosignal-1.3.2 datasets-3.5.1 dill-0.3.8 frozenlist-1.6.0 fsspec-2025.3.0 huggingface-hub-0.30.2 multidict-6.4.3 multiprocess-0.70.16 propcache-0.3.1 pyarrow-20.0.0 xxhash-3.5.0 yarl-1.20.0\n"
     ]
    },
    {
     "name": "stderr",
     "output_type": "stream",
     "text": [
      "\n",
      "[notice] A new release of pip is available: 24.2 -> 25.1.1\n",
      "[notice] To update, run: python.exe -m pip install --upgrade pip\n"
     ]
    }
   ],
   "source": [
    "!pip install datasets"
   ]
  },
  {
   "cell_type": "code",
   "execution_count": 5,
   "metadata": {},
   "outputs": [
    {
     "name": "stdout",
     "output_type": "stream",
     "text": [
      "Requirement already satisfied: tqdm in c:\\users\\admin\\appdata\\local\\programs\\python\\python311\\lib\\site-packages (4.66.4)\n",
      "Requirement already satisfied: colorama in c:\\users\\admin\\appdata\\roaming\\python\\python311\\site-packages (from tqdm) (0.4.6)\n"
     ]
    },
    {
     "name": "stderr",
     "output_type": "stream",
     "text": [
      "\n",
      "[notice] A new release of pip is available: 24.2 -> 25.1.1\n",
      "[notice] To update, run: python.exe -m pip install --upgrade pip\n"
     ]
    }
   ],
   "source": [
    "!pip install tqdm"
   ]
  },
  {
   "cell_type": "code",
   "execution_count": 6,
   "metadata": {},
   "outputs": [],
   "source": [
    "from tqdm import tqdm"
   ]
  },
  {
   "cell_type": "code",
   "execution_count": 8,
   "metadata": {},
   "outputs": [
    {
     "name": "stderr",
     "output_type": "stream",
     "text": [
      "100%|██████████| 112590/112590 [00:40<00:00, 2810.08it/s]\n",
      "100%|██████████| 701528/701528 [01:48<00:00, 6494.76it/s]\n"
     ]
    }
   ],
   "source": [
    "import json\n",
    "from datasets import load_dataset\n",
    "\n",
    "# open the file of the categories\n",
    "with open(\"final_categories.json\") as f:\n",
    "    categories = json.load(f)\n",
    "\n",
    "meta_asins = {}\n",
    "review_asins = {}\n",
    "for c in categories:\n",
    "\n",
    "    # load the metadata\n",
    "\n",
    "    meta = load_dataset(\"McAuley-Lab/Amazon-Reviews-2023\", f\"raw_meta_{c}\", trust_remote_code=True, cache_dir=r\"E:\\huggingface_cache\")\n",
    "    review = load_dataset(\"McAuley-Lab/Amazon-Reviews-2023\", f\"raw_review_{c}\", trust_remote_code=True, cache_dir=r\"E:\\huggingface_cache\")\n",
    "\n",
    "    for m in tqdm(meta[\"full\"]):\n",
    "        asin = m[\"parent_asin\"]\n",
    "        if asin not in meta_asins:\n",
    "            meta_asins[asin] = []\n",
    "        meta_asins[asin].append(m)\n",
    "\n",
    "    for r in tqdm(review[\"full\"]):\n",
    "        asin = r[\"parent_asin\"]\n",
    "        if asin not in review_asins:\n",
    "            review_asins[asin] = []\n",
    "        review_asins[asin].append(r)\n",
    "\n",
    "    with open(f\"data/{c}.meta_asins.json\", \"w\", encoding='utf-8') as f:\n",
    "        json.dump(meta_asins, f, indent=4, default=str, sort_keys=True, ensure_ascii=False)\n",
    "\n",
    "    with open(f\"data/{c}.review_asins.json\", \"w\", encoding='utf-8') as f:\n",
    "        json.dump(review_asins, f, indent=4, default=str, sort_keys=True, ensure_ascii=False)\n",
    "\n",
    "\n",
    "#print(dataset[\"full\"][0])\n",
    "#pa = dataset[\"full\"][0][\"parent_asin\"]\n",
    "\n",
    "\n",
    "\n",
    "\n",
    "\n"
   ]
  },
  {
   "cell_type": "code",
   "execution_count": 9,
   "metadata": {},
   "outputs": [
    {
     "data": {
      "text/plain": [
       "112590"
      ]
     },
     "execution_count": 9,
     "metadata": {},
     "output_type": "execute_result"
    }
   ],
   "source": [
    "len(meta_asins)"
   ]
  },
  {
   "cell_type": "code",
   "execution_count": 11,
   "metadata": {},
   "outputs": [
    {
     "data": {
      "text/plain": [
       "112565"
      ]
     },
     "execution_count": 11,
     "metadata": {},
     "output_type": "execute_result"
    }
   ],
   "source": [
    "len(review_asins)"
   ]
  },
  {
   "cell_type": "code",
   "execution_count": 15,
   "metadata": {},
   "outputs": [
    {
     "data": {
      "text/plain": [
       "701528"
      ]
     },
     "execution_count": 15,
     "metadata": {},
     "output_type": "execute_result"
    }
   ],
   "source": [
    "_count = 0\n",
    "for k in review_asins:\n",
    "    _count += len(review_asins[k])\n",
    "\n",
    "_count"
   ]
  },
  {
   "cell_type": "code",
   "execution_count": 12,
   "metadata": {},
   "outputs": [
    {
     "data": {
      "text/plain": [
       "1962"
      ]
     },
     "execution_count": 12,
     "metadata": {},
     "output_type": "execute_result"
    }
   ],
   "source": [
    "_max = 0\n",
    "for k in review_asins:\n",
    "    _max = max(_max, len(review_asins[k]))\n",
    "\n",
    "_max"
   ]
  },
  {
   "cell_type": "code",
   "execution_count": 13,
   "metadata": {},
   "outputs": [
    {
     "data": {
      "text/plain": [
       "25"
      ]
     },
     "execution_count": 13,
     "metadata": {},
     "output_type": "execute_result"
    }
   ],
   "source": [
    "len(set(meta_asins) - set(review_asins))"
   ]
  },
  {
   "cell_type": "code",
   "execution_count": 14,
   "metadata": {},
   "outputs": [
    {
     "data": {
      "text/plain": [
       "0"
      ]
     },
     "execution_count": 14,
     "metadata": {},
     "output_type": "execute_result"
    }
   ],
   "source": [
    "len(set(review_asins) - set(meta_asins))"
   ]
  },
  {
   "cell_type": "code",
   "execution_count": 16,
   "metadata": {},
   "outputs": [
    {
     "name": "stderr",
     "output_type": "stream",
     "text": [
      "'du' is not recognized as an internal or external command,\n",
      "operable program or batch file.\n"
     ]
    }
   ],
   "source": [
    "!du -sh *.json"
   ]
  }
 ],
 "metadata": {
  "kernelspec": {
   "display_name": "Python 3",
   "language": "python",
   "name": "python3"
  },
  "language_info": {
   "codemirror_mode": {
    "name": "ipython",
    "version": 3
   },
   "file_extension": ".py",
   "mimetype": "text/x-python",
   "name": "python",
   "nbconvert_exporter": "python",
   "pygments_lexer": "ipython3",
   "version": "3.11.4"
  }
 },
 "nbformat": 4,
 "nbformat_minor": 2
}
